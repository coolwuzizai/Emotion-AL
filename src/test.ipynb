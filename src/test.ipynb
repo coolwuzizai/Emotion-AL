{
 "cells": [
  {
   "cell_type": "code",
   "execution_count": 1,
   "metadata": {},
   "outputs": [],
   "source": [
    "from torchvision import datasets, transforms\n",
    "from torch.utils.data import DataLoader"
   ]
  },
  {
   "cell_type": "code",
   "execution_count": 2,
   "metadata": {},
   "outputs": [],
   "source": [
    "# Iako slike kad se pogledaju izgledaju kao da su crno bele nece tako biti ucitane\n",
    "# pa moramo da pored standardnog pretvaranja u Tensor, pretvorimo i u greyscale da bismo sveli samo na jedan kanal.\n",
    "loading_transform = transforms.Compose([\n",
    "    transforms.Grayscale(),\n",
    "    transforms.ToTensor()\n",
    "])"
   ]
  },
  {
   "cell_type": "code",
   "execution_count": 3,
   "metadata": {},
   "outputs": [],
   "source": [
    "#load the data\n",
    "train_dataset       = datasets.ImageFolder(root='../data/Training', transform=loading_transform) \n",
    "validation_dataset  = datasets.ImageFolder(root='../data/Validation', transform=loading_transform)\n",
    "test_dataset        = datasets.ImageFolder(root='../data/Test', transform=loading_transform)"
   ]
  },
  {
   "cell_type": "code",
   "execution_count": 4,
   "metadata": {},
   "outputs": [
    {
     "name": "stdout",
     "output_type": "stream",
     "text": [
      "Training dataset size:      28709 instances\n",
      "Validation dataset size:    3589 instances\n",
      "Test dataset size:          3589 instances\n"
     ]
    }
   ],
   "source": [
    "print(f\"Training dataset size:      {len(train_dataset)} instances\")\n",
    "print(f\"Validation dataset size:    {len(validation_dataset)} instances\")\n",
    "print(f\"Test dataset size:          {len(test_dataset)} instances\")"
   ]
  },
  {
   "cell_type": "code",
   "execution_count": 5,
   "metadata": {},
   "outputs": [],
   "source": [
    "# Make dataloaders\n",
    "train_dataloader = DataLoader(dataset=train_dataset, batch_size=32, shuffle=True)\n",
    "validation_dataloader = DataLoader(dataset=validation_dataset, batch_size=32, shuffle=True)\n",
    "test_dataloader = DataLoader(dataset=test_dataset, batch_size=32, shuffle=True)"
   ]
  },
  {
   "cell_type": "code",
   "execution_count": 6,
   "metadata": {},
   "outputs": [],
   "source": [
    "img, label = train_dataset[0]"
   ]
  },
  {
   "cell_type": "code",
   "execution_count": 7,
   "metadata": {},
   "outputs": [
    {
     "data": {
      "text/plain": [
       "torch.Size([1, 48, 48])"
      ]
     },
     "execution_count": 7,
     "metadata": {},
     "output_type": "execute_result"
    }
   ],
   "source": [
    "img.shape"
   ]
  },
  {
   "cell_type": "code",
   "execution_count": 8,
   "metadata": {},
   "outputs": [],
   "source": [
    "import torch.nn.functional as F\n",
    "from torch import nn\n",
    "import torch"
   ]
  },
  {
   "cell_type": "code",
   "execution_count": 9,
   "metadata": {},
   "outputs": [],
   "source": [
    "class FullyConnectedNN(nn.Module):\n",
    "    def __init__(self):\n",
    "        super().__init__()\n",
    "        \n",
    "\n",
    "        self.dense1 = nn.Linear(2304,128)\n",
    "        self.dense2 = nn.Linear(128, 64)\n",
    "        self.dense3 = nn.Linear(64,32)\n",
    "        self.final = nn.Linear(32,7)\n",
    "        \n",
    "        self.flatten = nn.Flatten(start_dim=1)\n",
    "\n",
    "    def forward(self, x):\n",
    "        \n",
    "        x = self.flatten(x)\n",
    "\n",
    "        x = F.relu(self.dense1(x))\n",
    "        x = F.relu(self.dense2(x))\n",
    "        x = F.relu(self.dense3(x))\n",
    "        x = self.final(x)\n",
    "\n",
    "        return x"
   ]
  },
  {
   "cell_type": "code",
   "execution_count": 10,
   "metadata": {},
   "outputs": [],
   "source": [
    "class simpleConvNet(nn.Module):\n",
    "    def __init__(self):\n",
    "        super().__init__()\n",
    "\n",
    "        \n",
    "        self.layer1 = nn.Conv2d(1,32,3) \n",
    "                                        \n",
    "        self.layer2 = nn.Conv2d(32,64,3)\n",
    "        self.pool = nn.MaxPool2d(2)\n",
    "        self.flatten = nn.Flatten(start_dim=1)\n",
    "        self.final_layer = nn.Linear(6400,7)\n",
    "\n",
    "    def forward(self, x):\n",
    "\n",
    "        x = F.relu(self.layer1(x))\n",
    "        x = self.pool(x)\n",
    "\n",
    "        x = F.relu(self.layer2(x))\n",
    "        x = self.pool(x)\n",
    "\n",
    "        x = self.flatten(x)\n",
    "        return self.final_layer(x)"
   ]
  },
  {
   "cell_type": "code",
   "execution_count": 11,
   "metadata": {},
   "outputs": [],
   "source": [
    "class EmotionNet(nn.Module):\n",
    "    def __init__(self, num_classes=7):\n",
    "        super(EmotionNet, self).__init__()\n",
    "\n",
    "        # Convolutional layers\n",
    "        self.conv1 = nn.Conv2d(in_channels=1, out_channels=32, kernel_size=3, padding=1)\n",
    "        self.conv2 = nn.Conv2d(in_channels=32, out_channels=64, kernel_size=3, padding=1)\n",
    "        self.conv3 = nn.Conv2d(in_channels=64, out_channels=128, kernel_size=3, padding=1)\n",
    "        \n",
    "        # Pooling layers\n",
    "        self.pool = nn.MaxPool2d(kernel_size=2, stride=2)\n",
    "\n",
    "        # Fully connected layers\n",
    "        # The input size for fc1 is now adjusted for 48x48 images after 3 conv + pool layers\n",
    "        # Input size to fc1: 128 filters * (48 / 2 / 2 / 2)^2 = 128 * 6 * 6 = 4608\n",
    "        self.fc1 = nn.Linear(in_features=128 * 6 * 6, out_features=512)\n",
    "        self.fc2 = nn.Linear(in_features=512, out_features=num_classes)\n",
    "\n",
    "        self.flatten = nn.Flatten(start_dim=1)\n",
    "\n",
    "        # Dropout layer for regularization\n",
    "        self.dropout = nn.Dropout(0.5)\n",
    "\n",
    "    def forward(self, x):\n",
    "        \n",
    "        x = self.pool(F.relu(self.conv1(x)))\n",
    "\n",
    "        x = self.pool(F.relu(self.conv2(x)))\n",
    "\n",
    "        x = self.pool(F.relu(self.conv3(x)))\n",
    "\n",
    "        x = self.flatten(x)\n",
    "\n",
    "        # Fully connected layers with dropout\n",
    "        x = F.relu(self.fc1(x))\n",
    "        x = self.dropout(x)\n",
    "        x = self.fc2(x)\n",
    "\n",
    "        return x"
   ]
  },
  {
   "cell_type": "code",
   "execution_count": 12,
   "metadata": {},
   "outputs": [],
   "source": [
    "class EDA_CNN(nn.Module):\n",
    "    def __init__(self):\n",
    "        super().__init__()\n",
    "\n",
    "        \n",
    "        self.layer1 = nn.Conv2d(1,32,3) \n",
    "                                        \n",
    "        self.layer2 = nn.Conv2d(32,64,3)\n",
    "        self.pool = nn.MaxPool2d(2)\n",
    "        self.flatten = nn.Flatten(start_dim=1)\n",
    "        self.dense1 = nn.Linear(6400,64)\n",
    "        self.dense2 = nn.Linear(64,7)\n",
    "\n",
    "    def forward(self, x):\n",
    "\n",
    "        x = F.relu(self.layer1(x))\n",
    "        x = self.pool(x)\n",
    "\n",
    "        x = F.relu(self.layer2(x))\n",
    "        x = self.pool(x)\n",
    "\n",
    "        x = self.flatten(x)\n",
    "        \n",
    "        x = F.relu(self.dense1(x))\n",
    "        x = F.softmax(self.dense2(x))\n",
    "        return x"
   ]
  },
  {
   "cell_type": "code",
   "execution_count": 13,
   "metadata": {},
   "outputs": [],
   "source": [
    "scn = simpleConvNet()"
   ]
  },
  {
   "cell_type": "code",
   "execution_count": 14,
   "metadata": {},
   "outputs": [
    {
     "data": {
      "text/plain": [
       "tensor([[-0.1281,  0.1218, -0.0239, -0.0333, -0.0327,  0.0858,  0.0363]],\n",
       "       grad_fn=<AddmmBackward0>)"
      ]
     },
     "execution_count": 14,
     "metadata": {},
     "output_type": "execute_result"
    }
   ],
   "source": [
    "scn(img.reshape(1,1,48,48))"
   ]
  },
  {
   "cell_type": "code",
   "execution_count": 15,
   "metadata": {},
   "outputs": [],
   "source": [
    "emoNet = EmotionNet()"
   ]
  },
  {
   "cell_type": "code",
   "execution_count": 16,
   "metadata": {},
   "outputs": [
    {
     "data": {
      "text/plain": [
       "tensor([[ 0.0135,  0.0553, -0.0195, -0.0298, -0.0590, -0.0029,  0.0191]],\n",
       "       grad_fn=<AddmmBackward0>)"
      ]
     },
     "execution_count": 16,
     "metadata": {},
     "output_type": "execute_result"
    }
   ],
   "source": [
    "emoNet(img.reshape(1,1,48,48))"
   ]
  },
  {
   "cell_type": "code",
   "execution_count": 17,
   "metadata": {},
   "outputs": [],
   "source": [
    "eda_cnn = EDA_CNN()"
   ]
  },
  {
   "cell_type": "code",
   "execution_count": 18,
   "metadata": {},
   "outputs": [
    {
     "name": "stderr",
     "output_type": "stream",
     "text": [
      "/tmp/ipykernel_166215/3233798655.py:25: UserWarning: Implicit dimension choice for softmax has been deprecated. Change the call to include dim=X as an argument.\n",
      "  x = F.softmax(self.dense2(x))\n"
     ]
    },
    {
     "data": {
      "text/plain": [
       "tensor([[0.1310, 0.1291, 0.1338, 0.1525, 0.1381, 0.1642, 0.1513]],\n",
       "       grad_fn=<SoftmaxBackward0>)"
      ]
     },
     "execution_count": 18,
     "metadata": {},
     "output_type": "execute_result"
    }
   ],
   "source": [
    "eda_cnn(img.reshape(1,1,48,48))"
   ]
  },
  {
   "cell_type": "code",
   "execution_count": 19,
   "metadata": {},
   "outputs": [],
   "source": [
    "fcnn = FullyConnectedNN()"
   ]
  },
  {
   "cell_type": "code",
   "execution_count": 20,
   "metadata": {},
   "outputs": [
    {
     "data": {
      "text/plain": [
       "tensor([[-0.0636,  0.0314, -0.0710, -0.0470,  0.0343, -0.1217,  0.0158]],\n",
       "       grad_fn=<AddmmBackward0>)"
      ]
     },
     "execution_count": 20,
     "metadata": {},
     "output_type": "execute_result"
    }
   ],
   "source": [
    "fcnn(img.reshape(1,1,48,48))"
   ]
  },
  {
   "cell_type": "code",
   "execution_count": 21,
   "metadata": {},
   "outputs": [
    {
     "data": {
      "text/plain": [
       "0"
      ]
     },
     "execution_count": 21,
     "metadata": {},
     "output_type": "execute_result"
    }
   ],
   "source": [
    "label"
   ]
  },
  {
   "cell_type": "code",
   "execution_count": 22,
   "metadata": {},
   "outputs": [],
   "source": [
    "from torch import optim"
   ]
  },
  {
   "cell_type": "code",
   "execution_count": 23,
   "metadata": {},
   "outputs": [],
   "source": [
    "device = 'cuda' if torch.cuda.is_available() else 'cpu'\n",
    "loss_fn = nn.CrossEntropyLoss()"
   ]
  },
  {
   "cell_type": "code",
   "execution_count": 24,
   "metadata": {},
   "outputs": [],
   "source": [
    "def train_loop(dataloader: DataLoader, model: nn.Module, loss_fn, optimizer, device):\n",
    "    model.train()\n",
    "    for X, y in dataloader:\n",
    "        X = X.to(device)\n",
    "        y = y.to(device)\n",
    "\n",
    "        preds = model(X)\n",
    "        loss = loss_fn(preds, y)\n",
    "\n",
    "        #radimo backpropagation - racunamo gradijente\n",
    "        loss.backward()\n",
    "\n",
    "        #ovde radimo X_new = x - lr * grad\n",
    "        optimizer.step()\n",
    "\n",
    "        #ne zelimo da sabiramo sve gradijente zato ih ponistimo posle svake iteracije\n",
    "        optimizer.zero_grad()"
   ]
  },
  {
   "cell_type": "code",
   "execution_count": 25,
   "metadata": {},
   "outputs": [],
   "source": [
    "def test_loop(dataloader: DataLoader, model: nn.Module, loss_fn, device):\n",
    "    # moramo da naglasimo da testiramo\n",
    "    model.eval()\n",
    "    with torch.no_grad():\n",
    "        # racunamo total loss i broj pogodjenih predvidjanja\n",
    "        total_loss = 0\n",
    "        num_same = 0\n",
    "\n",
    "        #idemo kroz loader i provlacimo instance kroz model i dobijemo predikciju\n",
    "        for X, y in dataloader:\n",
    "            X = X.to(device)\n",
    "            y = y.to(device)\n",
    "\n",
    "            outputs = model(X)\n",
    "            loss = loss_fn(outputs, y)\n",
    "            total_loss += loss.item()\n",
    "\n",
    "            _, indices = torch.max(outputs,1)\n",
    "            num_same += sum(indices == y).item()\n",
    "        \n",
    "        print(total_loss)\n",
    "        print(num_same / len(dataloader.dataset))\n"
   ]
  },
  {
   "cell_type": "code",
   "execution_count": 26,
   "metadata": {},
   "outputs": [],
   "source": [
    "# num_epochs = 2\n",
    "# optimizer = optim.Adam(params=fcnn.parameters(), lr=0.001)\n",
    "# fcnn.to(device)\n",
    "# for epoch in range(num_epochs):\n",
    "#     train_loop(train_dataloader, model=fcnn,loss_fn=loss_fn,optimizer=optimizer,device=device)\n",
    "#     test_loop(test_dataloader, model=fcnn,loss_fn=loss_fn, device=device)"
   ]
  },
  {
   "cell_type": "code",
   "execution_count": 27,
   "metadata": {},
   "outputs": [],
   "source": [
    "# num_epochs = 2\n",
    "# optimizer = optim.Adam(params=scn.parameters(), lr=0.001)\n",
    "# scn.to(device)\n",
    "# for epoch in range(num_epochs):\n",
    "#     train_loop(train_dataloader, model=scn,loss_fn=loss_fn,optimizer=optimizer,device=device)\n",
    "#     test_loop(validation_dataloader, model=scn,loss_fn=loss_fn, device=device)"
   ]
  },
  {
   "cell_type": "code",
   "execution_count": 28,
   "metadata": {},
   "outputs": [],
   "source": [
    "# num_epochs = 2\n",
    "# optimizer = optim.Adam(params=emoNet.parameters(), lr=0.0001)\n",
    "# emoNet.to(device)\n",
    "# for epoch in range(num_epochs):\n",
    "#     train_loop(train_dataloader, model=emoNet,loss_fn=loss_fn,optimizer=optimizer,device=device)\n",
    "#     test_loop(validation_dataloader, model=emoNet,loss_fn=loss_fn, device=device)"
   ]
  },
  {
   "cell_type": "code",
   "execution_count": 29,
   "metadata": {},
   "outputs": [],
   "source": [
    "# num_epochs = 2\n",
    "# optimizer = optim.Adam(params=eda_cnn.parameters(), lr=0.0001)\n",
    "# eda_cnn.to(device)\n",
    "# for epoch in range(num_epochs):\n",
    "#     train_loop(train_dataloader, model=eda_cnn,loss_fn=loss_fn,optimizer=optimizer,device=device)\n",
    "#     test_loop(validation_dataloader, model=eda_cnn,loss_fn=loss_fn, device=device)"
   ]
  },
  {
   "cell_type": "code",
   "execution_count": 30,
   "metadata": {},
   "outputs": [],
   "source": [
    "test_img, test_label = test_dataset[2000]"
   ]
  },
  {
   "cell_type": "code",
   "execution_count": 31,
   "metadata": {},
   "outputs": [
    {
     "name": "stdout",
     "output_type": "stream",
     "text": [
      "torch.Size([1, 48, 48])\n",
      "4\n"
     ]
    }
   ],
   "source": [
    "print(test_img.shape)\n",
    "print(test_label)"
   ]
  },
  {
   "cell_type": "code",
   "execution_count": 32,
   "metadata": {},
   "outputs": [
    {
     "data": {
      "text/plain": [
       "tensor([[-0.1699,  0.1314, -0.0520, -0.0629, -0.0500,  0.0928,  0.0166]],\n",
       "       grad_fn=<AddmmBackward0>)"
      ]
     },
     "execution_count": 32,
     "metadata": {},
     "output_type": "execute_result"
    }
   ],
   "source": [
    "scn(test_img.reshape(1,1,48,48))"
   ]
  },
  {
   "cell_type": "code",
   "execution_count": 33,
   "metadata": {},
   "outputs": [
    {
     "data": {
      "text/plain": [
       "tensor([[ 0.0200,  0.0386, -0.0708, -0.0273, -0.0667, -0.0275, -0.0219]],\n",
       "       grad_fn=<AddmmBackward0>)"
      ]
     },
     "execution_count": 33,
     "metadata": {},
     "output_type": "execute_result"
    }
   ],
   "source": [
    "emoNet(test_img.reshape(1,1,48,48))"
   ]
  },
  {
   "cell_type": "code",
   "execution_count": 34,
   "metadata": {},
   "outputs": [
    {
     "name": "stderr",
     "output_type": "stream",
     "text": [
      "/tmp/ipykernel_166215/3233798655.py:25: UserWarning: Implicit dimension choice for softmax has been deprecated. Change the call to include dim=X as an argument.\n",
      "  x = F.softmax(self.dense2(x))\n"
     ]
    },
    {
     "data": {
      "text/plain": [
       "tensor([[0.1307, 0.1283, 0.1344, 0.1532, 0.1373, 0.1655, 0.1506]],\n",
       "       grad_fn=<SoftmaxBackward0>)"
      ]
     },
     "execution_count": 34,
     "metadata": {},
     "output_type": "execute_result"
    }
   ],
   "source": [
    "eda_cnn(test_img.reshape(1,1,48,48))"
   ]
  },
  {
   "cell_type": "code",
   "execution_count": 35,
   "metadata": {},
   "outputs": [],
   "source": [
    "import os"
   ]
  },
  {
   "cell_type": "code",
   "execution_count": 36,
   "metadata": {},
   "outputs": [],
   "source": [
    "# # Save models for future use or retrain\n",
    "# models_dir = \"../models\"\n",
    "# if not os.path.exists(path='../models'):\n",
    "#     os.mkdir(path='../models')\n",
    "#     print(\"Created a models directory\")\n",
    "# else:\n",
    "#     print(\"models directory already exists\")\n",
    "\n",
    "# print(\"Saving models...\")\n",
    "\n",
    "# torch.save(fcnn, os.path.join(models_dir, 'fullyConnectedNN.pth'))\n",
    "# print(\"Model saved successfully: fullyConnectedNN.pth\")\n",
    "\n",
    "# torch.save(scn, os.path.join(models_dir, 'simpleConvNN.pth'))\n",
    "# print(\"Model saved successfully: simpleConvNN.pth\")\n",
    "\n",
    "# torch.save(emoNet, os.path.join(models_dir, 'emoNet.pth'))\n",
    "# print(\"Model saved successfully: emoNet.pth\")\n",
    "\n",
    "# torch.save(eda_cnn, os.path.join(models_dir, 'EDA_CNN.pth'))\n",
    "# print(\"Model saved successfully: EDA_CNN.pth\")"
   ]
  },
  {
   "cell_type": "code",
   "execution_count": 37,
   "metadata": {},
   "outputs": [],
   "source": [
    "import numpy as np"
   ]
  },
  {
   "cell_type": "code",
   "execution_count": 38,
   "metadata": {},
   "outputs": [
    {
     "name": "stdout",
     "output_type": "stream",
     "text": [
      "[1 2 3 4 5]\n"
     ]
    }
   ],
   "source": [
    "losses = np.arange(1, 5+1, 1)\n",
    "print(losses)"
   ]
  },
  {
   "cell_type": "code",
   "execution_count": 39,
   "metadata": {},
   "outputs": [],
   "source": [
    "import function_lib as flib"
   ]
  },
  {
   "cell_type": "code",
   "execution_count": 40,
   "metadata": {},
   "outputs": [
    {
     "name": "stdout",
     "output_type": "stream",
     "text": [
      "Training epoch: 1...\n",
      "Total loss: 166.19218564033508\n",
      "Accuracy: 0.4388409027584285\n",
      "Training epoch: 2...\n",
      "Total loss: 151.39646422863007\n",
      "Accuracy: 0.4848147116188353\n",
      "Training epoch: 3...\n",
      "Total loss: 142.96685922145844\n",
      "Accuracy: 0.5160211758149903\n",
      "Training epoch: 4...\n",
      "Total loss: 135.79350411891937\n",
      "Accuracy: 0.5338534410699359\n",
      "Training epoch: 5...\n",
      "Total loss: 133.2561390399933\n",
      "Accuracy: 0.5528002229033157\n",
      "Training epoch: 6...\n",
      "Total loss: 131.56198143959045\n",
      "Accuracy: 0.5539147394817497\n",
      "Training epoch: 7...\n",
      "Total loss: 132.30738359689713\n",
      "Accuracy: 0.5611590972415714\n",
      "Training epoch: 8...\n",
      "Total loss: 132.10880291461945\n",
      "Accuracy: 0.5628308721092227\n",
      "Training epoch: 9...\n",
      "Total loss: 134.3241617679596\n",
      "Accuracy: 0.571468375592087\n",
      "Training epoch: 10...\n",
      "Total loss: 137.42241030931473\n",
      "Accuracy: 0.571468375592087\n"
     ]
    }
   ],
   "source": [
    "losses = []\n",
    "accs = []\n",
    "\n",
    "optimizer = optim.Adam(params=emoNet.parameters(), lr=0.001)\n",
    "\n",
    "(losses, accs) = flib.train(emoNet, train_dataloader, validation_dataloader, loss_fn,optimizer, losses=losses, accs=accs,num_epochs=10)"
   ]
  },
  {
   "cell_type": "code",
   "execution_count": 41,
   "metadata": {},
   "outputs": [
    {
     "name": "stdout",
     "output_type": "stream",
     "text": [
      "Total number of trainable parameters: 2456071\n"
     ]
    }
   ],
   "source": [
    "flib.print_trainable_params(emoNet)"
   ]
  },
  {
   "cell_type": "code",
   "execution_count": 42,
   "metadata": {},
   "outputs": [
    {
     "data": {
      "text/plain": [
       "[166.19218564033508,\n",
       " 151.39646422863007,\n",
       " 142.96685922145844,\n",
       " 135.79350411891937,\n",
       " 133.2561390399933,\n",
       " 131.56198143959045,\n",
       " 132.30738359689713,\n",
       " 132.10880291461945,\n",
       " 134.3241617679596,\n",
       " 137.42241030931473]"
      ]
     },
     "execution_count": 42,
     "metadata": {},
     "output_type": "execute_result"
    }
   ],
   "source": [
    "losses"
   ]
  },
  {
   "cell_type": "code",
   "execution_count": 43,
   "metadata": {},
   "outputs": [
    {
     "name": "stdout",
     "output_type": "stream",
     "text": [
      "models directory already exists\n",
      "Saving model...\n",
      "Model 'emoNet' saved successfully.\n"
     ]
    }
   ],
   "source": [
    "flib.save_model(model=emoNet, model_name=\"emoNet\",path=\"../models\")"
   ]
  },
  {
   "cell_type": "code",
   "execution_count": 44,
   "metadata": {},
   "outputs": [
    {
     "name": "stdout",
     "output_type": "stream",
     "text": [
      "[ 1.0756075  -1.3899382   1.5527766  -3.315274   -1.0769839   0.28350645\n",
      " -2.9202287 ]\n",
      "2\n"
     ]
    }
   ],
   "source": [
    "pred = emoNet(test_img.reshape(1,1,48,48))\n",
    "result = pred.detach().cpu().numpy()[0]\n",
    "print(result)\n",
    "print(np.argmax(result))"
   ]
  },
  {
   "cell_type": "code",
   "execution_count": 45,
   "metadata": {},
   "outputs": [
    {
     "data": {
      "text/plain": [
       "4"
      ]
     },
     "execution_count": 45,
     "metadata": {},
     "output_type": "execute_result"
    }
   ],
   "source": [
    "test_label"
   ]
  },
  {
   "cell_type": "code",
   "execution_count": 46,
   "metadata": {},
   "outputs": [],
   "source": [
    "from matplotlib import pyplot as plt"
   ]
  },
  {
   "cell_type": "code",
   "execution_count": 47,
   "metadata": {},
   "outputs": [
    {
     "data": {
      "image/png": "[encoded data removed]",
      "text/plain": [
       "<Figure size 640x480 with 1 Axes>"
      ]
     },
     "metadata": {},
     "output_type": "display_data"
    }
   ],
   "source": [
    "plt.plot(range(len(losses)), losses)\n",
    "plt.show()"
   ]
  },
  {
   "cell_type": "code",
   "execution_count": 48,
   "metadata": {},
   "outputs": [
    {
     "name": "stdout",
     "output_type": "stream",
     "text": [
      "Training epoch: 1...\n",
      "Total loss: 167.16958510875702\n",
      "Accuracy: 0.4354973530231262\n",
      "Training epoch: 2...\n",
      "Total loss: 155.8980546593666\n",
      "Accuracy: 0.4672610755084982\n",
      "Training epoch: 3...\n",
      "Total loss: 151.2067093849182\n",
      "Accuracy: 0.48843689049874617\n",
      "Training epoch: 4...\n",
      "Total loss: 149.2838940024376\n",
      "Accuracy: 0.4887155196433547\n",
      "Training epoch: 5...\n",
      "Total loss: 149.742546916008\n",
      "Accuracy: 0.49707439398161046\n",
      "Training epoch: 6...\n",
      "Total loss: 148.8530237674713\n",
      "Accuracy: 0.4990247979938702\n",
      "Training epoch: 7...\n",
      "Total loss: 148.0495042204857\n",
      "Accuracy: 0.5082195597659516\n",
      "Training epoch: 8...\n",
      "Total loss: 148.97117894887924\n",
      "Accuracy: 0.5084981889105601\n",
      "Training epoch: 9...\n",
      "Total loss: 149.36548054218292\n",
      "Accuracy: 0.507940930621343\n",
      "Training epoch: 10...\n",
      "Total loss: 148.4755960702896\n",
      "Accuracy: 0.5268877124547228\n",
      "models directory already exists\n",
      "Saving model...\n",
      "Model 'simpleConvNN' saved successfully.\n"
     ]
    }
   ],
   "source": [
    "losses = []\n",
    "accs = []\n",
    "\n",
    "optimizer = optim.Adam(params=scn.parameters(), lr=0.001)\n",
    "\n",
    "(losses, accs) = flib.train(scn, train_dataloader=train_dataloader, validation_dataloader=validation_dataloader, loss_fn=loss_fn, optimizer=optimizer, losses=losses, accs=accs,num_epochs=10)\n",
    "flib.save_model(model=scn, model_name=\"simpleConvNN\",path=\"../models\")"
   ]
  },
  {
   "cell_type": "code",
   "execution_count": 49,
   "metadata": {},
   "outputs": [
    {
     "name": "stdout",
     "output_type": "stream",
     "text": [
      "Total number of trainable parameters: 63623\n"
     ]
    }
   ],
   "source": [
    "flib.print_trainable_params(scn)"
   ]
  },
  {
   "cell_type": "code",
   "execution_count": 50,
   "metadata": {},
   "outputs": [
    {
     "name": "stdout",
     "output_type": "stream",
     "text": [
      "[ 3.7111856e-02 -3.9962823e+00 -5.6346007e-02 -1.8722268e+00\n",
      "  1.7225151e-01 -1.7609298e-03 -5.9939375e+00]\n",
      "4\n"
     ]
    },
    {
     "data": {
      "image/png": "[encoded data removed]",
      "text/plain": [
       "<Figure size 640x480 with 1 Axes>"
      ]
     },
     "metadata": {},
     "output_type": "display_data"
    }
   ],
   "source": [
    "pred = scn(test_img.reshape(1,1,48,48))\n",
    "result = pred.detach().cpu().numpy()[0]\n",
    "print(result)\n",
    "print(np.argmax(result))\n",
    "\n",
    "plt.plot(range(len(losses)), losses)\n",
    "plt.show()"
   ]
  },
  {
   "cell_type": "code",
   "execution_count": 51,
   "metadata": {},
   "outputs": [
    {
     "name": "stdout",
     "output_type": "stream",
     "text": [
      "Training epoch: 1...\n"
     ]
    },
    {
     "name": "stderr",
     "output_type": "stream",
     "text": [
      "/tmp/ipykernel_166215/3233798655.py:25: UserWarning: Implicit dimension choice for softmax has been deprecated. Change the call to include dim=X as an argument.\n",
      "  x = F.softmax(self.dense2(x))\n"
     ]
    },
    {
     "name": "stdout",
     "output_type": "stream",
     "text": [
      "Total loss: 201.94002628326416\n",
      "Accuracy: 0.3650041794371691\n",
      "Training epoch: 2...\n",
      "Total loss: 198.29221045970917\n",
      "Accuracy: 0.3987183059348008\n",
      "Training epoch: 3...\n",
      "Total loss: 195.84602570533752\n",
      "Accuracy: 0.4237949289495681\n",
      "Training epoch: 4...\n",
      "Total loss: 195.42495834827423\n",
      "Accuracy: 0.42518807467261077\n",
      "Training epoch: 5...\n",
      "Total loss: 193.17008197307587\n",
      "Accuracy: 0.4471997770966843\n",
      "Training epoch: 6...\n",
      "Total loss: 193.65064871311188\n",
      "Accuracy: 0.44079130677068823\n",
      "Training epoch: 7...\n",
      "Total loss: 191.59230017662048\n",
      "Accuracy: 0.46921147952075787\n",
      "Training epoch: 8...\n",
      "Total loss: 193.1454107761383\n",
      "Accuracy: 0.449150181108944\n",
      "Training epoch: 9...\n",
      "Total loss: 191.17980825901031\n",
      "Accuracy: 0.46308163833937027\n",
      "Training epoch: 10...\n",
      "Total loss: 190.7696681022644\n",
      "Accuracy: 0.470883254388409\n",
      "models directory already exists\n",
      "Saving model...\n",
      "Model 'EDA_CNN' saved successfully.\n"
     ]
    }
   ],
   "source": [
    "losses = []\n",
    "accs = []\n",
    "\n",
    "optimizer = optim.Adam(params=eda_cnn.parameters(), lr=0.001)\n",
    "\n",
    "(losses, accs) = flib.train(eda_cnn, train_dataloader=train_dataloader, validation_dataloader=validation_dataloader, loss_fn=loss_fn, optimizer=optimizer, losses=losses, accs=accs,num_epochs=10)\n",
    "flib.save_model(model=eda_cnn, model_name=\"EDA_CNN\",path=\"../models\")"
   ]
  },
  {
   "cell_type": "code",
   "execution_count": 52,
   "metadata": {},
   "outputs": [
    {
     "name": "stdout",
     "output_type": "stream",
     "text": [
      "Total number of trainable parameters: 428935\n"
     ]
    }
   ],
   "source": [
    "flib.print_trainable_params(eda_cnn)"
   ]
  },
  {
   "cell_type": "code",
   "execution_count": 53,
   "metadata": {},
   "outputs": [
    {
     "name": "stdout",
     "output_type": "stream",
     "text": [
      "[1.0492153e-06 5.9633149e-12 5.2720396e-04 5.9967792e-01 3.8614959e-01\n",
      " 1.3644253e-02 1.8749383e-15]\n",
      "3\n"
     ]
    },
    {
     "name": "stderr",
     "output_type": "stream",
     "text": [
      "/tmp/ipykernel_166215/3233798655.py:25: UserWarning: Implicit dimension choice for softmax has been deprecated. Change the call to include dim=X as an argument.\n",
      "  x = F.softmax(self.dense2(x))\n"
     ]
    },
    {
     "data": {
      "image/png": "[encoded data removed]",
      "text/plain": [
       "<Figure size 640x480 with 1 Axes>"
      ]
     },
     "metadata": {},
     "output_type": "display_data"
    }
   ],
   "source": [
    "pred = eda_cnn(test_img.reshape(1,1,48,48))\n",
    "result = pred.detach().cpu().numpy()[0]\n",
    "print(result)\n",
    "print(np.argmax(result))\n",
    "\n",
    "plt.plot(range(len(losses)), losses)\n",
    "plt.show()"
   ]
  },
  {
   "cell_type": "code",
   "execution_count": 54,
   "metadata": {},
   "outputs": [
    {
     "data": {
      "image/png": "[encoded data removed]",
      "text/plain": [
       "<Figure size 640x480 with 1 Axes>"
      ]
     },
     "metadata": {},
     "output_type": "display_data"
    }
   ],
   "source": [
    "plt.plot(range(len(losses)), accs)\n",
    "plt.show()"
   ]
  }
 ],
 "metadata": {
  "kernelspec": {
   "display_name": ".venv",
   "language": "python",
   "name": "python3"
  },
  "language_info": {
   "codemirror_mode": {
    "name": "ipython",
    "version": 3
   },
   "file_extension": ".py",
   "mimetype": "text/x-python",
   "name": "python",
   "nbconvert_exporter": "python",
   "pygments_lexer": "ipython3",
   "version": "3.10.12"
  }
 },
 "nbformat": 4,
 "nbformat_minor": 2
}
